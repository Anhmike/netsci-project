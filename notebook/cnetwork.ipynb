{
 "cells": [
  {
   "cell_type": "code",
   "execution_count": null,
   "metadata": {
    "collapsed": false
   },
   "outputs": [],
   "source": [
    "# Create a correlation-based network for 30 Dow Jones companies.\n",
    "# Compute correlations using the closing stock prices for each of 30 companies."
   ]
  },
  {
   "cell_type": "code",
   "execution_count": 2,
   "metadata": {
    "collapsed": false
   },
   "outputs": [],
   "source": [
    "## Preliminary arrangements: which companies and dates to choose?\n",
    "import pandas as pd\n",
    "import numpy as np\n",
    "dfsym=pd.read_csv('data/companylist.csv',float_precision='high')\n",
    "dfsym=dfsym[dfsym['MarketCap'] > 1000000]\n",
    "companies=dfsym['Symbol'].tolist()"
   ]
  },
  {
   "cell_type": "code",
   "execution_count": 8,
   "metadata": {
    "collapsed": false
   },
   "outputs": [],
   "source": [
    "from pandas_datareader import data, wb\n",
    "import traceback\n",
    "def get_data(i):\n",
    "    print (i)\n",
    "    try:\n",
    "        raw_data = data.DataReader(i, 'google', start='01/01/2012', end='30/06/2014')\n",
    "    except:\n",
    "        traceback.print_exc()\n",
    "    if len(raw_data) > 0:\n",
    "        print('here')\n",
    "        data_df = raw_data\n",
    "        data_df['Key'] = i\n",
    "        data_df.reset_index(inplace=True) \n",
    "        return data_df"
   ]
  },
  {
   "cell_type": "code",
   "execution_count": null,
   "metadata": {
    "collapsed": false,
    "scrolled": true
   },
   "outputs": [],
   "source": [
    "## Download the data\n",
    "from multiprocessing import Pool\n",
    "data_list = []\n",
    "\n",
    "p = Pool(20)\n",
    "data_list=p.map(get_data, companies)\n",
    "df_data = pd.concat(data_list)"
   ]
  },
  {
   "cell_type": "code",
   "execution_count": 9,
   "metadata": {
    "collapsed": false
   },
   "outputs": [
    {
     "name": "stdout",
     "output_type": "stream",
     "text": [
      "AAPL\n"
     ]
    },
    {
     "name": "stderr",
     "output_type": "stream",
     "text": [
      "Traceback (most recent call last):\n",
      "  File \"<ipython-input-8-5ace500cc628>\", line 6, in get_data\n",
      "    raw_data = data.DataReader(i, 'google', start='01/01/2012', end='30/06/2014')\n",
      "  File \"/opt/conda/lib/python3.6/site-packages/pandas_datareader/data.py\", line 133, in DataReader\n",
      "    session=session).read()\n",
      "  File \"/opt/conda/lib/python3.6/site-packages/pandas_datareader/base.py\", line 157, in read\n",
      "    params=self._get_params(self.symbols))\n",
      "  File \"/opt/conda/lib/python3.6/site-packages/pandas_datareader/base.py\", line 74, in _read_one_data\n",
      "    out = self._read_url_as_StringIO(url, params=params)\n",
      "  File \"/opt/conda/lib/python3.6/site-packages/pandas_datareader/base.py\", line 85, in _read_url_as_StringIO\n",
      "    response = self._get_response(url, params=params)\n",
      "  File \"/opt/conda/lib/python3.6/site-packages/pandas_datareader/base.py\", line 120, in _get_response\n",
      "    raise RemoteDataError('Unable to read URL: {0}'.format(url))\n",
      "pandas_datareader._utils.RemoteDataError: Unable to read URL: http://www.google.com/finance/historical?q=AAPL&startdate=Jan+01%2C+2012&enddate=Jun+30%2C+2014&output=csv\n"
     ]
    },
    {
     "ename": "UnboundLocalError",
     "evalue": "local variable 'raw_data' referenced before assignment",
     "output_type": "error",
     "traceback": [
      "\u001b[0;31m---------------------------------------------------------------------------\u001b[0m",
      "\u001b[0;31mUnboundLocalError\u001b[0m                         Traceback (most recent call last)",
      "\u001b[0;32m<ipython-input-9-c53a672d2fa3>\u001b[0m in \u001b[0;36m<module>\u001b[0;34m()\u001b[0m\n\u001b[0;32m----> 1\u001b[0;31m \u001b[0mO\u001b[0m\u001b[0;34m=\u001b[0m\u001b[0mget_data\u001b[0m\u001b[0;34m(\u001b[0m\u001b[0;34m'AAPL'\u001b[0m\u001b[0;34m)\u001b[0m\u001b[0;34m\u001b[0m\u001b[0m\n\u001b[0m\u001b[1;32m      2\u001b[0m \u001b[0mO\u001b[0m\u001b[0;34m\u001b[0m\u001b[0m\n",
      "\u001b[0;32m<ipython-input-8-5ace500cc628>\u001b[0m in \u001b[0;36mget_data\u001b[0;34m(i)\u001b[0m\n\u001b[1;32m      7\u001b[0m     \u001b[0;32mexcept\u001b[0m\u001b[0;34m:\u001b[0m\u001b[0;34m\u001b[0m\u001b[0m\n\u001b[1;32m      8\u001b[0m         \u001b[0mtraceback\u001b[0m\u001b[0;34m.\u001b[0m\u001b[0mprint_exc\u001b[0m\u001b[0;34m(\u001b[0m\u001b[0;34m)\u001b[0m\u001b[0;34m\u001b[0m\u001b[0m\n\u001b[0;32m----> 9\u001b[0;31m     \u001b[0;32mif\u001b[0m \u001b[0mlen\u001b[0m\u001b[0;34m(\u001b[0m\u001b[0mraw_data\u001b[0m\u001b[0;34m)\u001b[0m \u001b[0;34m>\u001b[0m \u001b[0;36m0\u001b[0m\u001b[0;34m:\u001b[0m\u001b[0;34m\u001b[0m\u001b[0m\n\u001b[0m\u001b[1;32m     10\u001b[0m         \u001b[0mprint\u001b[0m\u001b[0;34m(\u001b[0m\u001b[0;34m'here'\u001b[0m\u001b[0;34m)\u001b[0m\u001b[0;34m\u001b[0m\u001b[0m\n\u001b[1;32m     11\u001b[0m         \u001b[0mdata_df\u001b[0m \u001b[0;34m=\u001b[0m \u001b[0mraw_data\u001b[0m\u001b[0;34m\u001b[0m\u001b[0m\n",
      "\u001b[0;31mUnboundLocalError\u001b[0m: local variable 'raw_data' referenced before assignment"
     ]
    }
   ],
   "source": [
    "O=get_data('AAPL')\n",
    "O"
   ]
  },
  {
   "cell_type": "code",
   "execution_count": null,
   "metadata": {
    "collapsed": false
   },
   "outputs": [],
   "source": [
    "import scipy.signal\n",
    "data_detrd={}\n",
    "for key in data_dict:\n",
    "    data_detrd[key] = pd.Series(scipy.signal.detrend(data_dict[key]))\n",
    "data_dict = data_detrd"
   ]
  },
  {
   "cell_type": "code",
   "execution_count": null,
   "metadata": {
    "collapsed": false
   },
   "outputs": [],
   "source": [
    "data_dict"
   ]
  },
  {
   "cell_type": "code",
   "execution_count": null,
   "metadata": {
    "collapsed": false
   },
   "outputs": [],
   "source": [
    "## A quick visualization: stock prices for each Dow Jones company\n",
    "\n",
    "import pylab\n",
    "import random as rn\n",
    "\n",
    "colors = 'bcgmry'\n",
    "rn.seed = len(companies)  # for choosing random colors\n",
    "pylab.subplot('111')  # all time series on a single figure\n",
    "\n",
    "for i in data_dict:\n",
    "    data_dict[i].plot(style=colors[rn.randint(0, len(colors) - 1)])\n",
    "pylab.show()"
   ]
  },
  {
   "cell_type": "code",
   "execution_count": null,
   "metadata": {
    "collapsed": false
   },
   "outputs": [],
   "source": [
    "## Compute correlation matrix\n",
    "\n",
    "import numpy as np\n",
    "n = len(data_dict)\n",
    "corr_matrix = np.zeros((n, n))\n",
    "cdict=list(data_dict.keys())\n",
    "\n",
    "for i in range(0, n):\n",
    "    for j in range(0, n):\n",
    "        if i < j:\n",
    "            corr_matrix[i][j] = data_dict[cdict[i]].corr(\n",
    "                                                    data_dict[cdict[j]],\n",
    "                                                    method='pearson')\n",
    "\n",
    "# Output\n",
    "np.set_printoptions(precision=2)\n",
    "print (corr_matrix[0])"
   ]
  },
  {
   "cell_type": "code",
   "execution_count": null,
   "metadata": {
    "collapsed": false
   },
   "outputs": [],
   "source": [
    "## Remove weak correlations to construct a graph\n",
    "threshold = 0.8\n",
    "\n",
    "def elength(x):\n",
    "    if abs(x) < threshold:\n",
    "        return 0\n",
    "    else:\n",
    "        return round((((1-x)*2)**0.5))\n",
    "\n",
    "vfunc = np.vectorize(elength)\n",
    "corr_matrixo=vfunc(corr_matrix)\n",
    "\n",
    "# Output\n",
    "print (corr_matrixo[0])"
   ]
  },
  {
   "cell_type": "code",
   "execution_count": null,
   "metadata": {
    "collapsed": false
   },
   "outputs": [],
   "source": [
    "# Constructing a graph\n",
    "import networkx as nx\n",
    "G = nx.Graph(corr_matrixo)"
   ]
  },
  {
   "cell_type": "code",
   "execution_count": null,
   "metadata": {
    "collapsed": false
   },
   "outputs": [],
   "source": [
    "## Explore graph properties\n",
    "\n",
    "nodes, edges = G.order(), G.size()\n",
    "print (nx.info(G))"
   ]
  },
  {
   "cell_type": "code",
   "execution_count": null,
   "metadata": {
    "collapsed": false
   },
   "outputs": [],
   "source": [
    "%matplotlib inline\n",
    "nx.draw(G)"
   ]
  },
  {
   "cell_type": "code",
   "execution_count": null,
   "metadata": {
    "collapsed": false
   },
   "outputs": [],
   "source": [
    "from networkx.readwrite import json_graph\n",
    "G.remove_nodes_from(nx.isolates(G)) \n",
    "data = json_graph.node_link_data(G)"
   ]
  },
  {
   "cell_type": "code",
   "execution_count": null,
   "metadata": {
    "collapsed": false
   },
   "outputs": [],
   "source": [
    "from IPython.core.display import display,HTML\n",
    "import d3_lib\n",
    "HTML(d3_lib.set_styles(['basic_axis','basic_line','basic_scatter','force_directed_graph','day-hr-heatmap']))\n",
    "HTML('<script src=\"lib/d3/d3.min.js\"></script>')"
   ]
  },
  {
   "cell_type": "code",
   "execution_count": null,
   "metadata": {
    "collapsed": false
   },
   "outputs": [],
   "source": [
    "keys = ['nodes', 'links']\n",
    "\n",
    "filtered_d = dict((k, data[k]) for k in keys if k in data)\n"
   ]
  },
  {
   "cell_type": "code",
   "execution_count": null,
   "metadata": {
    "collapsed": false
   },
   "outputs": [],
   "source": [
    "display(HTML(d3_lib.draw_graph('force_directed_graph',{'data': filtered_d})))"
   ]
  },
  {
   "cell_type": "code",
   "execution_count": null,
   "metadata": {
    "collapsed": false
   },
   "outputs": [],
   "source": [
    "for j in filtered_d['links']:\n",
    "    j['value'] = j.pop('weight')"
   ]
  },
  {
   "cell_type": "code",
   "execution_count": null,
   "metadata": {
    "collapsed": false
   },
   "outputs": [],
   "source": [
    "filtered_d['links']"
   ]
  },
  {
   "cell_type": "code",
   "execution_count": null,
   "metadata": {
    "collapsed": false
   },
   "outputs": [],
   "source": [
    "from pandas_datareader import data, wb\n",
    "df=data.DataReader('AAPL', 'google', start='01/01/2000', end='30/06/2017')\n",
    "df['key'] = 'AAPL'\n",
    "df2=df.reset_index()"
   ]
  },
  {
   "cell_type": "code",
   "execution_count": null,
   "metadata": {
    "collapsed": false
   },
   "outputs": [],
   "source": [
    "df=data.DataReader('AAPL', 'google', start='01/01/2000', end='30/06/2017')\n",
    "df['key'] = 'AAPL'\n",
    "df3=df.reset_index()"
   ]
  },
  {
   "cell_type": "code",
   "execution_count": null,
   "metadata": {
    "collapsed": false
   },
   "outputs": [],
   "source": [
    "pd.concat([df2,df3])"
   ]
  },
  {
   "cell_type": "code",
   "execution_count": null,
   "metadata": {
    "collapsed": true
   },
   "outputs": [],
   "source": []
  }
 ],
 "metadata": {
  "kernelspec": {
   "display_name": "Python 3",
   "language": "python",
   "name": "python3"
  },
  "language_info": {
   "codemirror_mode": {
    "name": "ipython",
    "version": 3
   },
   "file_extension": ".py",
   "mimetype": "text/x-python",
   "name": "python",
   "nbconvert_exporter": "python",
   "pygments_lexer": "ipython3",
   "version": "3.6.0"
  }
 },
 "nbformat": 4,
 "nbformat_minor": 0
}
